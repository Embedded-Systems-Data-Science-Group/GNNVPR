{
 "cells": [
  {
   "cell_type": "code",
   "execution_count": 1,
   "source": [
    "import pandas as pd\n",
    "import glob\n",
    "import os\n",
    "import math\n",
    "import matplotlib.pyplot as plt\n",
    "import numpy as np\n",
    "from statistics import mean\n"
   ],
   "outputs": [],
   "metadata": {}
  },
  {
   "cell_type": "code",
   "execution_count": null,
   "source": [
    "path = \"/home/spicygremlin/Github/CS220/combined_speedup/raw/\"\n",
    "results = []\n",
    "graph_files = glob.glob(os.path.join(path, \"*-nodes.csv\"))\n",
    "for graph in graph_files:\n",
    "    df = pd.read_csv(graph,index_col=None,header=0)\n",
    "    df = df[df['in_netlist'] == 0]\n",
    "    results.extend(df['history_cost'].values)\n",
    "# df = pd.read_csv(graph_files[0],index_col=None,header=0)\n",
    "# results = list(filter(lambda x: x > 2, results))\n",
    "plt.yscale('log')\n",
    "# plt.xticks(range(len(results)),results)\n",
    "# print(max(results))\n",
    "plt.hist(results, int(max(results)))\n",
    "# plt.set_ylim([None,10^6])\n"
   ],
   "outputs": [],
   "metadata": {}
  },
  {
   "cell_type": "code",
   "execution_count": null,
   "source": [
    "# path = \"/home/spicygremlin/Github/CS220/combined_storage/raw/\"\n",
    "# results = []\n",
    "# graph_files = glob.glob(os.path.join(path, \"strat*.csv\"))\n",
    "# for graph in graph_files:\n",
    "#     df = pd.read_csv(graph,index_col=None,header=0)\n",
    "#     results.extend(df['history_cost'].values)\n",
    "# # df = pd.read_csv(graph_files[0],index_col=None,header=0)\n",
    "# # results = list(filter(lambda x: x > 2, results))\n",
    "# plt.yscale('log')\n",
    "# plt.hist(results, 6, color=\"skyblue\")"
   ],
   "outputs": [],
   "metadata": {}
  },
  {
   "cell_type": "code",
   "execution_count": null,
   "source": [
    "path = \"/mnt/e/benchmarks/Outputs/EArch_alu4\"\n",
    "results = []\n",
    "graph_files = glob.glob(os.path.join(path, \"*.csv\"))\n",
    "for graph in graph_files:\n",
    "    df = pd.read_csv(graph,index_col=None,header=None)\n",
    "    results.extend(df[0].values)\n",
    "# df = pd.read_csv(graph_files[0],index_col=None,header=0)\n",
    "# results = list(filter(lambda x: x > 2, results))\n",
    "plt.yscale('log')\n",
    "plt.hist(results, 6, color=\"purple\")"
   ],
   "outputs": [
    {
     "output_type": "execute_result",
     "data": {
      "text/plain": [
       "(array([4.0286e+04, 1.1000e+02, 2.1000e+01, 0.0000e+00, 1.1700e+02,\n",
       "        1.4200e+02]),\n",
       " array([1.        , 1.31993802, 1.63987603, 1.95981405, 2.27975207,\n",
       "        2.59969008, 2.9196281 ]),\n",
       " <a list of 6 Patch objects>)"
      ]
     },
     "metadata": {},
     "execution_count": 3
    },
    {
     "output_type": "display_data",
     "data": {
      "text/plain": [
       "<Figure size 432x288 with 1 Axes>"
      ],
      "image/png": "[encoded data removed]"
     },
     "metadata": {
      "needs_background": "light"
     }
    }
   ],
   "metadata": {}
  },
  {
   "cell_type": "code",
   "execution_count": null,
   "source": [
    "def metric(path, r_string, type_string):\n",
    "    all_files = glob.glob(os.path.join(path, r_string+\"*\"+type_string+\"*.csv\"))\n",
    "    results = dict()\n",
    "    results[type_string] = dict()\n",
    "    results['reg'] = dict()\n",
    "    results['time_gnn'] = dict()\n",
    "    results['time_reg'] = dict()\n",
    "    results['CPD_GNN'] = dict()\n",
    "    results['CPD_REG'] = dict()\n",
    "    gnn_results = dict()\n",
    "    reg_results = dict()\n",
    "    for gnn_metric in all_files:\n",
    "        lf = gnn_metric.split(\"/\")[-1]\n",
    "        lf = lf.split(\".\")[0]\n",
    "        name = lf.split(\"__\"+type_string+\"__\")[0]\n",
    "        # print(name)\n",
    "        df = pd.read_csv(gnn_metric,index_col=None,header=0)\n",
    "        \n",
    "        gnn_results[name] = max(df['Iteration'])\n",
    "        # print(df[].head())\n",
    "    results[type_string] = gnn_results\n",
    "    reg_results = dict()\n",
    "    for gnn_metric in all_files:\n",
    "        lf = gnn_metric.split(\"/\")[-1]\n",
    "        lf = lf.split(\".\")[0]\n",
    "        name = lf.split(\"__\"+type_string+\"__\")[0]\n",
    "        # print(name)\n",
    "        df = pd.read_csv(gnn_metric,index_col=None,header=0)\n",
    "        \n",
    "        reg_results[name] = sum(df['Time'])\n",
    "    results['time_gnn'] = reg_results\n",
    "    # print(results)\n",
    "    reg_results = dict()\n",
    "\n",
    "    reg_results = dict()\n",
    "    for gnn_metric in all_files:\n",
    "        lf = gnn_metric.split(\"/\")[-1]\n",
    "        lf = lf.split(\".\")[0]\n",
    "        name = lf.split(\"__\"+type_string+\"__\")[0]\n",
    "        # print(name)\n",
    "        df = pd.read_csv(gnn_metric,index_col=None,header=0)\n",
    "        \n",
    "        reg_results[name] = max(df['CPD (ns)'])\n",
    "    results['CPD_GNN'] = reg_results\n",
    "    # print(results)\n",
    "    reg_results = dict()\n",
    "    all_files = glob.glob(os.path.join(path, r_string+\"*reg*.csv\"))\n",
    "    for reg_metric in all_files:\n",
    "        lf = reg_metric.split(\"/\")[-1]\n",
    "        lf = lf.split(\".\")[0]\n",
    "        name = lf.split(\"__reg__\")[0]\n",
    "        # print(name)\n",
    "        df = pd.read_csv(reg_metric,index_col=None,header=0)\n",
    "        \n",
    "        reg_results[name] = max(df['Iteration'])\n",
    "        # print(df[].head())  \n",
    "    results['reg'] = reg_results\n",
    "\n",
    "    reg_results = dict()\n",
    "    for reg_metric in all_files:\n",
    "        lf = reg_metric.split(\"/\")[-1]\n",
    "        lf = lf.split(\".\")[0]\n",
    "        name = lf.split(\"__reg__\")[0]\n",
    "        # print(name)\n",
    "        df = pd.read_csv(reg_metric,index_col=None,header=0)\n",
    "        \n",
    "        reg_results[name] = sum(df['Time'])\n",
    "    results['time_reg'] = reg_results\n",
    "\n",
    "    reg_results = dict()\n",
    "    for reg_metric in all_files:\n",
    "        lf = reg_metric.split(\"/\")[-1]\n",
    "        lf = lf.split(\".\")[0]\n",
    "        name = lf.split(\"__reg__\")[0]\n",
    "        # print(name)\n",
    "        df = pd.read_csv(reg_metric,index_col=None,header=0)\n",
    "        \n",
    "        reg_results[name] = max(df['CPD (ns)'])\n",
    "    results['CPD_REG'] = reg_results\n",
    "        # print(df[].head())\n",
    "\n",
    "    # print(results)\n",
    "    my_df = pd.DataFrame.from_dict(results)\n",
    "    # print(my_df)\n",
    "    my_df['Reduction'] = (my_df['reg'].values - my_df[type_string].values)/my_df['reg'].values\n",
    "    # my_df['Reduction']=  pd.Series([\"{0:.2f}%\".format(val * 100) for val in my_df['Reduction']], index = my_df.index)\n",
    "\n",
    "    print(\"Average: \", \"{:.2%}\".format(mean(my_df['Reduction'].values)))\n",
    "    # print(\"{:2%}\".format(my_df))\n",
    "    pd.set_option('expand_frame_repr', False)\n",
    "    my_df['Reduction']=  pd.Series([\"{0:.2f}%\".format(val * 100) for val in my_df['Reduction']], index = my_df.index)\n",
    "    my_df['time_reg']=  pd.Series([\"{0:.2f}\".format(val) for val in my_df['time_reg']], index = my_df.index)\n",
    "    my_df['time_gnn']=  pd.Series([\"{0:.2f}\".format(val) for val in my_df['time_gnn']], index = my_df.index)\n",
    "    my_df['CPD_REG']=  pd.Series([\"{0:.2f}\".format(val) for val in my_df['CPD_REG']], index = my_df.index)\n",
    "    my_df['CPD_GNN']=  pd.Series([\"{0:.2f}\".format(val) for val in my_df['CPD_GNN']], index = my_df.index)\n",
    "    print(my_df)"
   ],
   "outputs": [],
   "metadata": {}
  },
  {
   "cell_type": "code",
   "execution_count": null,
   "source": [
    "path = \"/mnt/e/benchmarks/route_metrics/\"\n",
    "r_string = \"EArch\"\n",
    "type_string = \"gnd\"\n",
    "metric(path, r_string, type_string)"
   ],
   "outputs": [
    {
     "output_type": "stream",
     "name": "stdout",
     "text": [
      "Average:  17.25%\n",
      "                 gnd  reg time_gnn time_reg CPD_GNN CPD_REG Reduction\n",
      "EArch__alu4       14   14     0.17     0.48    5.54    5.50     0.00%\n",
      "EArch__apex2      13   15     0.24     0.59    6.30    6.30    13.33%\n",
      "EArch__apex4      13   15     0.17     0.50    5.25    5.25    13.33%\n",
      "EArch__bigkey     10   11     0.16     0.60    2.64    2.64     9.09%\n",
      "EArch__clma       12   15     1.06     2.61   11.33   11.31    20.00%\n",
      "EArch__des        11   13     0.23     0.82    5.20    5.20    15.38%\n",
      "EArch__diffeq     10   14     0.13     0.40    6.44    6.44    28.57%\n",
      "EArch__dsip        8   12     0.12     0.63    2.63    2.63    33.33%\n",
      "EArch__elliptic   11   13     0.33     1.18    9.07    9.06    15.38%\n",
      "EArch__ex1010     14   16     0.58     1.70    7.37    7.44    12.50%\n",
      "EArch__ex5p       12   16     0.14     0.40    5.36    5.36    25.00%\n",
      "EArch__frisc      11   13     0.40     1.19   11.83   11.84    15.38%\n",
      "EArch__misex3     12   15     0.16     0.49    5.16    5.16    20.00%\n",
      "EArch__pdc        13   17     0.75     1.88    7.99    8.09    23.53%\n",
      "EArch__s298       11   14     0.13     0.57   10.05   10.05    21.43%\n",
      "EArch__s38417     11   14     0.39     1.68    7.37    7.36    21.43%\n",
      "EArch__s38584     10   12     0.39     1.77    6.53    6.53    16.67%\n",
      "EArch__seq        13   14     0.21     0.67    5.23    5.23     7.14%\n",
      "EArch__spla       15   16     0.53     1.37    6.94    6.94     6.25%\n",
      "EArch__tseng       8   11     0.08     0.32    6.52    6.52    27.27%\n"
     ]
    }
   ],
   "metadata": {}
  },
  {
   "cell_type": "code",
   "execution_count": null,
   "source": [
    "path = \"/mnt/e/benchmarks/route_metrics/\"\n",
    "r_string = \"strat\"\n",
    "type_string = \"gnd\"\n",
    "metric(path, r_string, type_string)"
   ],
   "outputs": [
    {
     "output_type": "stream",
     "name": "stdout",
     "text": [
      "Average:  17.65%\n",
      "                          gnd  reg time_gnn time_reg CPD_GNN CPD_REG Reduction\n",
      "stratixiv_arch__alu4       11   11     0.25     0.75    9.30    9.30     0.00%\n",
      "stratixiv_arch__apex2       8   11     0.35     0.91   10.32   10.32    27.27%\n",
      "stratixiv_arch__apex4       8   10     0.34     0.79    9.27    9.27    20.00%\n",
      "stratixiv_arch__bigkey      4    5     0.60     9.27    7.58    7.58    20.00%\n",
      "stratixiv_arch__clma       10   12     1.56     3.54    9.55    9.55    16.67%\n",
      "stratixiv_arch__des         7   11     0.88    13.39   11.42   11.42    36.36%\n",
      "stratixiv_arch__diffeq      5    6     0.27     1.03    7.43    7.43    16.67%\n",
      "stratixiv_arch__dsip        4    5     0.68    10.49    7.65    7.65    20.00%\n",
      "stratixiv_arch__elliptic    9    7     0.91     4.32    8.50    8.50   -28.57%\n",
      "stratixiv_arch__ex1010     10   11     1.04     2.13   11.08   11.08     9.09%\n",
      "stratixiv_arch__ex5p        8   11     0.38     0.90    9.27    9.25    27.27%\n",
      "stratixiv_arch__frisc       6    9     0.93     2.27   12.35   12.34    33.33%\n",
      "stratixiv_arch__misex3      7   11     0.25     0.67    9.31    9.30    36.36%\n",
      "stratixiv_arch__pdc        11   13     1.40     2.59   11.85   11.85    15.38%\n",
      "stratixiv_arch__s298        6    9     0.21     0.79    9.30    9.29    33.33%\n",
      "stratixiv_arch__s38417      7    9     0.92     2.26    7.90    7.90    22.22%\n",
      "stratixiv_arch__s38584      7   13     1.10     6.81   10.17   10.15    46.15%\n",
      "stratixiv_arch__seq         8   11     0.32     0.82    9.18    9.18    27.27%\n",
      "stratixiv_arch__spla       11   16     1.02     2.08   11.23   11.24    31.25%\n",
      "stratixiv_arch__tseng      11    7     0.29     2.17    6.80    6.80   -57.14%\n"
     ]
    }
   ],
   "metadata": {}
  },
  {
   "cell_type": "code",
   "execution_count": null,
   "source": [
    "path = \"/mnt/e/benchmarks/route_metrics/\"\n",
    "r_string = \"EArch\"\n",
    "type_string = \"gnn\"\n",
    "metric(path, r_string, type_string)"
   ],
   "outputs": [
    {
     "output_type": "stream",
     "name": "stdout",
     "text": [
      "Average:  5.41%\n",
      "                 gnn  reg time_gnn time_reg CPD_GNN CPD_REG Reduction\n",
      "EArch__alu4       14   14    10.26     0.48    5.54    5.50     0.00%\n",
      "EArch__apex2      15   15     8.46     0.59    6.30    6.30     0.00%\n",
      "EArch__apex4      15   15     7.83     0.50    5.25    5.25     0.00%\n",
      "EArch__bigkey     11   11     8.27     0.60    2.64    2.64     0.00%\n",
      "EArch__clma       13   15    12.58     2.61   11.33   11.31    13.33%\n",
      "EArch__des        13   13     8.39     0.82    5.20    5.20     0.00%\n",
      "EArch__diffeq     12   14     7.95     0.40    6.44    6.44    14.29%\n",
      "EArch__dsip       10   12     8.69     0.63    2.63    2.63    16.67%\n",
      "EArch__elliptic   12   13     8.84     1.18    9.07    9.06     7.69%\n",
      "EArch__ex1010     15   16    10.31     1.70    7.37    7.44     6.25%\n",
      "EArch__ex5p       14   16     8.43     0.40    5.36    5.36    12.50%\n",
      "EArch__frisc      12   13     9.86     1.19   11.84   11.84     7.69%\n",
      "EArch__misex3     14   15     8.94     0.49    5.16    5.16     6.67%\n",
      "EArch__pdc        16   17    11.26     1.88    7.99    8.09     5.88%\n",
      "EArch__s298       14   14     8.70     0.57   10.05   10.05     0.00%\n",
      "EArch__s38417     13   14    11.63     1.68    7.37    7.36     7.14%\n",
      "EArch__s38584     12   12    11.30     1.77    6.53    6.53     0.00%\n",
      "EArch__seq        16   14     8.75     0.67    5.23    5.23   -14.29%\n",
      "EArch__spla       15   16     9.73     1.37    6.94    6.94     6.25%\n",
      "EArch__tseng       9   11     8.28     0.32    6.52    6.52    18.18%\n"
     ]
    }
   ],
   "metadata": {}
  },
  {
   "cell_type": "code",
   "execution_count": null,
   "source": [
    "path = \"/mnt/e/benchmarks/route_metrics/\"\n",
    "r_string = \"strat\"\n",
    "type_string = \"gnn\"\n",
    "metric(path, r_string, type_string)"
   ],
   "outputs": [],
   "metadata": {}
  }
 ],
 "metadata": {
  "orig_nbformat": 4,
  "language_info": {
   "name": "python",
   "version": "3.7.6",
   "mimetype": "text/x-python",
   "codemirror_mode": {
    "name": "ipython",
    "version": 3
   },
   "pygments_lexer": "ipython3",
   "nbconvert_exporter": "python",
   "file_extension": ".py"
  },
  "kernelspec": {
   "name": "python3",
   "display_name": "Python 3.7.6 64-bit ('base': conda)"
  },
  "interpreter": {
   "hash": "14703d14b2e9020e6b68e53db79ab00f931e811849ad8083c9107f94252e5fdf"
  }
 },
 "nbformat": 4,
 "nbformat_minor": 2
}