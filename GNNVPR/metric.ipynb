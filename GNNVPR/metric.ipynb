{
 "cells": [
  {
   "cell_type": "code",
   "execution_count": 2,
   "metadata": {},
   "outputs": [],
   "source": [
    "import pandas as pd\n",
    "import glob\n",
    "import os\n",
    "import re\n",
    "import math\n",
    "import matplotlib.pyplot as plt\n",
    "import numpy as np\n",
    "from statistics import mean\n"
   ]
  },
  {
   "cell_type": "code",
   "execution_count": 112,
   "metadata": {},
   "outputs": [],
   "source": [
    "def metric(path, r_string, type_string, timing=False):\n",
    "    resultdf = dict()\n",
    "\n",
    "    all_files = glob.glob(os.path.join(path, \"*\"+r_string+type_string+\"*.csv\"))\n",
    "    for file in all_files:\n",
    "        if os.path.getsize(file) == 0:\n",
    "            all_files.remove(file)\n",
    " \n",
    "    for gnn_metric in all_files:\n",
    "        lf = gnn_metric.split(\"/\")[-1]\n",
    "        lf = lf.split(\".\")[0]\n",
    "        name = lf.split(\"__\"+type_string+\"__\")[0]\n",
    "        if name not in resultdf:\n",
    "            resultdf[name] = dict()\n",
    "        df = pd.read_csv(gnn_metric,index_col=None,header=0)\n",
    "        max_key = df.tail(1).index.values[0]\n",
    "        gnn_iteration = df['Iteration'][max_key]\n",
    "        gnn_cpd = df['CPD (ns)'][max_key]\n",
    "        gnn_time = sum(df['Time'])\n",
    "        gnn_width = df[' Channel Width'][max_key]\n",
    "\n",
    "        resultdf[name]['GNN_Iters'] = gnn_iteration\n",
    "        resultdf[name]['GNN_CPD (ns)'] = gnn_cpd\n",
    "        resultdf[name]['GNN_Time (s)'] = gnn_time\n",
    "        resultdf[name]['GNN_Width'] = gnn_width\n",
    "\n",
    "    all_files = glob.glob(os.path.join(path, r_string+\"*reg*.csv\"))\n",
    "    for file in all_files:\n",
    "        if os.path.getsize(file) == 0:\n",
    "            all_files.remove(file)\n",
    "\n",
    "    type_string = \"reg\"\n",
    "    for reg_metric in all_files:\n",
    "        lf = reg_metric.split(\"/\")[-1]\n",
    "        lf = lf.split(\".\")[0]\n",
    "        name = lf.split(\"__\"+type_string+\"__\")[0]\n",
    "        if name not in resultdf:\n",
    "            resultdf[name] = dict()\n",
    "        df = pd.read_csv(reg_metric,index_col=None,header=0)\n",
    "        max_key = df.tail(1).index.values[0]\n",
    "        reg_iteration = df['Iteration'][max_key]\n",
    "        reg_cpd = df['CPD (ns)'][max_key]\n",
    "        reg_time = sum(df['Time'])\n",
    "        reg_width = df[' Channel Width'][max_key]\n",
    "\n",
    "        resultdf[name]['REG_Iters'] = reg_iteration\n",
    "        resultdf[name]['REG_CPD (ns)'] = reg_cpd\n",
    "        resultdf[name]['REG_Time (s)'] = reg_time\n",
    "        resultdf[name]['REG_Width'] = reg_width\n",
    "\n",
    "    \n",
    "   \n",
    "    resultdf = pd.DataFrame(resultdf).T\n",
    "    \n",
    "    # resultdf['GNN_Iters'] = resultdf['GNN_Iters'].astype(int)\n",
    "    # resultdf['REG_Iters'] = resultdf['REG_Iters'].astype(int)\n",
    "    # resultdf['REG_Width'] = resultdf['REG_Width'].astype(int)\n",
    "    # resultdf['GNN_Width'] = resultdf['GNN_Width'].astype(int)\n",
    "    \n",
    "    resultdf['Difference'] = resultdf['REG_Width'] - resultdf['GNN_Width']\n",
    "    # resultdf['Difference'] = resultdf['Difference'].astype(int)\n",
    "    resultdf['Difference (%)'] = resultdf['Difference']/resultdf['REG_Width']*100\n",
    "    resultdf = resultdf[[\"REG_Iters\", \"GNN_Iters\", \n",
    "                        #  \"REG_Width\", \"GNN_Width\", \n",
    "                         \"REG_CPD (ns)\", \"GNN_CPD (ns)\",\n",
    "                        \"Difference\"\n",
    "                         ]]\n",
    "    pd.set_option('display.float_format','{:.2f}'.format)\n",
    "    print(resultdf)\n",
    "    # print(resultdf['Difference (%)'].describe())"
   ]
  },
  {
   "cell_type": "code",
   "execution_count": 109,
   "metadata": {},
   "outputs": [
    {
     "name": "stdout",
     "output_type": "stream",
     "text": [
      "                 REG_Iters  GNN_Iters  Difference\n",
      "EArch__alu4          17.00      19.00       30.00\n",
      "EArch__apex2         36.00      -1.00       20.00\n",
      "EArch__apex4         22.00      34.00       12.00\n",
      "EArch__bigkey        17.00      24.00        0.00\n",
      "EArch__clma          45.00      -1.00       18.00\n",
      "EArch__des           55.00      36.00       14.00\n",
      "EArch__diffeq         8.00      33.00       16.00\n",
      "EArch__dsip          16.00       9.00        4.00\n",
      "EArch__elliptic      47.00      -1.00       24.00\n",
      "EArch__ex1010        52.00      -1.00       22.00\n",
      "EArch__ex5p          27.00      81.00       22.00\n",
      "EArch__frisc         41.00      51.00       20.00\n",
      "EArch__misex3        24.00     138.00       22.00\n",
      "EArch__pdc           48.00      -1.00       26.00\n",
      "EArch__s298          23.00      25.00        8.00\n",
      "EArch__s38417        11.00      34.00        8.00\n",
      "EArch__s38584        43.00      12.00       14.00\n",
      "EArch__seq           30.00      -1.00       26.00\n",
      "EArch__spla          45.00     108.00       32.00\n",
      "EArch__tseng         12.00      -1.00       14.00\n"
     ]
    }
   ],
   "source": [
    "path = \"/mnt/e/benchmarks/route_metrics/MCNC/\"\n",
    "r_string = \"EArch*\"\n",
    "type_string = \"gnn\"\n",
    "metric(path, r_string, type_string)\n",
    "# pd.options.display.float_format = '{:,.0f}'.format\n",
    "# graph = pd.read_csv(\"/mnt/e/benchmarks/edges_nodes.csv\",index_col=0,header=0)\n",
    "# print(graph.describe())\n"
   ]
  },
  {
   "cell_type": "code",
   "execution_count": 113,
   "metadata": {},
   "outputs": [],
   "source": [
    "import tensorflow as tf\n",
    "import datetime"
   ]
  },
  {
   "cell_type": "code",
   "execution_count": 116,
   "metadata": {},
   "outputs": [
    {
     "name": "stdout",
     "output_type": "stream",
     "text": [
      "                          REG_Iters  GNN_Iters  REG_CPD (ns)  GNN_CPD (ns)  \\\n",
      "stratixiv_arch__alu4          51.00      69.00         10.13         10.77   \n",
      "stratixiv_arch__apex2         52.00      63.00         10.32         10.46   \n",
      "stratixiv_arch__apex4         80.00      63.00          9.71         10.08   \n",
      "stratixiv_arch__bigkey         7.00       8.00          8.21          8.29   \n",
      "stratixiv_arch__clma          42.00      76.00          9.75          9.91   \n",
      "stratixiv_arch__des           42.00      39.00         12.25         12.28   \n",
      "stratixiv_arch__diffeq        49.00      50.00          7.41          7.55   \n",
      "stratixiv_arch__dsip          19.00      83.00          8.08          8.11   \n",
      "stratixiv_arch__ex1010       166.00     126.00         11.29         12.13   \n",
      "stratixiv_arch__ex5p         105.00     117.00          9.90         10.26   \n",
      "stratixiv_arch__frisc         41.00      48.00         12.05         12.15   \n",
      "stratixiv_arch__misex3        42.00      93.00          9.84          9.87   \n",
      "stratixiv_arch__pdc          106.00     158.00         11.83         11.93   \n",
      "stratixiv_arch__s298          27.00      38.00          9.61         10.29   \n",
      "stratixiv_arch__s38417        41.00      29.00          8.05          8.27   \n",
      "stratixiv_arch__s38584        42.00      87.00         10.92         11.49   \n",
      "stratixiv_arch__seq           78.00     126.00          9.36          9.58   \n",
      "stratixiv_arch__spla          75.00     122.00         11.59         11.76   \n",
      "stratixiv_arch__tseng         43.00      31.00          7.28          7.79   \n",
      "stratixiv_arch__elliptic      57.00        NaN          9.27           NaN   \n",
      "\n",
      "                          Difference  \n",
      "stratixiv_arch__alu4            0.00  \n",
      "stratixiv_arch__apex2           0.00  \n",
      "stratixiv_arch__apex4           0.00  \n",
      "stratixiv_arch__bigkey          0.00  \n",
      "stratixiv_arch__clma            0.00  \n",
      "stratixiv_arch__des             0.00  \n",
      "stratixiv_arch__diffeq          0.00  \n",
      "stratixiv_arch__dsip            0.00  \n",
      "stratixiv_arch__ex1010          0.00  \n",
      "stratixiv_arch__ex5p            0.00  \n",
      "stratixiv_arch__frisc           0.00  \n",
      "stratixiv_arch__misex3          0.00  \n",
      "stratixiv_arch__pdc             0.00  \n",
      "stratixiv_arch__s298            0.00  \n",
      "stratixiv_arch__s38417          0.00  \n",
      "stratixiv_arch__s38584          0.00  \n",
      "stratixiv_arch__seq             0.00  \n",
      "stratixiv_arch__spla            0.00  \n",
      "stratixiv_arch__tseng           0.00  \n",
      "stratixiv_arch__elliptic         NaN  \n"
     ]
    }
   ],
   "source": [
    "path = \"/mnt/e/benchmarks/route_metrics/TITAN/\"\n",
    "r_string = \"strat*\"\n",
    "type_string = \"gnn\"\n",
    "metric(path, r_string, type_string)"
   ]
  }
 ],
 "metadata": {
  "interpreter": {
   "hash": "33523b78cfab29329be06c8dc9e0bc68c55f5871a327f9619ac45fb3b56bad04"
  },
  "kernelspec": {
   "display_name": "Python 3.9.7 ('cs235')",
   "language": "python",
   "name": "python3"
  },
  "language_info": {
   "codemirror_mode": {
    "name": "ipython",
    "version": 3
   },
   "file_extension": ".py",
   "mimetype": "text/x-python",
   "name": "python",
   "nbconvert_exporter": "python",
   "pygments_lexer": "ipython3",
   "version": "3.9.7"
  },
  "orig_nbformat": 4
 },
 "nbformat": 4,
 "nbformat_minor": 2
}
