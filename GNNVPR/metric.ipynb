{
 "cells": [
  {
   "cell_type": "code",
   "execution_count": 3,
   "metadata": {},
   "outputs": [],
   "source": [
    "import pandas as pd\n",
    "import glob\n",
    "import os\n",
    "import re\n",
    "import math\n",
    "import matplotlib.pyplot as plt\n",
    "import numpy as np\n",
    "from statistics import mean\n"
   ]
  },
  {
   "cell_type": "code",
   "execution_count": 13,
   "metadata": {},
   "outputs": [],
   "source": [
    "def metric(path, r_string, type_string, timing=False):\n",
    "    resultdf = dict()\n",
    "\n",
    "    all_files = glob.glob(os.path.join(path, \"*\"+r_string+type_string+\"*.csv\"))\n",
    "    for file in all_files:\n",
    "        if os.path.getsize(file) == 0:\n",
    "            all_files.remove(file)\n",
    " \n",
    "    for gnn_metric in all_files:\n",
    "        lf = gnn_metric.split(\"/\")[-1]\n",
    "        lf = lf.split(\".\")[0]\n",
    "        name = lf.split(\"__\"+type_string+\"__\")[0]\n",
    "        if name not in resultdf:\n",
    "            resultdf[name] = dict()\n",
    "        df = pd.read_csv(gnn_metric,index_col=None,header=0)\n",
    "        max_key = df.tail(1).index.values[0]\n",
    "        gnn_iteration = df['Iteration'][max_key]\n",
    "        gnn_cpd = df['CPD (ns)'][max_key]\n",
    "        gnn_time = sum(df['Time'])\n",
    "\n",
    "        resultdf[name]['GNN_Iterations'] = gnn_iteration\n",
    "        resultdf[name]['GNN_CPD (ns)'] = gnn_cpd\n",
    "        resultdf[name]['GNN_Time (s)'] = gnn_time\n",
    "\n",
    "    all_files = glob.glob(os.path.join(path, r_string+\"*reg*.csv\"))\n",
    "    for file in all_files:\n",
    "        if os.path.getsize(file) == 0:\n",
    "            all_files.remove(file)\n",
    "\n",
    "    type_string = \"reg\"\n",
    "    for reg_metric in all_files:\n",
    "        lf = reg_metric.split(\"/\")[-1]\n",
    "        lf = lf.split(\".\")[0]\n",
    "        name = lf.split(\"__\"+type_string+\"__\")[0]\n",
    "        df = pd.read_csv(reg_metric,index_col=None,header=0)\n",
    "        max_key = df.tail(1).index.values[0]\n",
    "        reg_iteration = df['Iteration'][max_key]\n",
    "        reg_cpd = df['CPD (ns)'][max_key]\n",
    "        reg_time = sum(df['Time'])\n",
    "\n",
    "        resultdf[name]['REG_Iterations'] = reg_iteration\n",
    "        resultdf[name]['REG_CPD (ns)'] = reg_cpd\n",
    "        resultdf[name]['REG_Time (s)'] = reg_time\n",
    "    \n",
    "   \n",
    "    resultdf = pd.DataFrame(resultdf).T\n",
    "    resultdf['GNN_Iterations'] = resultdf['GNN_Iterations'].astype(int)\n",
    "    resultdf['REG_Iterations'] = resultdf['REG_Iterations'].astype(int)\n",
    "    resultdf = resultdf[[\"GNN_Iterations\", \"REG_Iterations\", \"GNN_Time (s)\", \"REG_CPD (ns)\"]]\n",
    "    pd.set_option('display.float_format','{:.2f}'.format)\n",
    "    print(resultdf)"
   ]
  },
  {
   "cell_type": "code",
   "execution_count": 32,
   "metadata": {},
   "outputs": [
    {
     "name": "stdout",
     "output_type": "stream",
     "text": [
      "                 GNN_Iterations  REG_Iterations  GNN_Time (s)  REG_CPD (ns)\n",
      "EArch__alu4                  26              20          3.80          6.03\n",
      "EArch__apex2                112              -1          7.08          6.79\n",
      "EArch__apex4                109              40          6.34          5.78\n",
      "EArch__bigkey                10               6          4.91          2.45\n",
      "EArch__clma                  -1              40         10.96         12.02\n",
      "EArch__des                   -1              34          3.29          5.12\n",
      "EArch__diffeq                -1               5          3.57          6.88\n",
      "EArch__dsip                  -1               5          3.31          2.61\n",
      "EArch__elliptic              -1              17          4.08          8.72\n",
      "EArch__ex1010                10              59          5.86          7.72\n",
      "EArch__ex5p                   9              33          4.31          5.44\n",
      "EArch__frisc                 10              32          5.31         12.63\n",
      "EArch__misex3                15              -1          4.01          5.20\n",
      "EArch__pdc                   44              -1          8.95          8.31\n",
      "EArch__s298                   5               8          4.49         10.03\n",
      "EArch__s38417                 4               7          5.36          7.80\n",
      "EArch__s38584                 9              19          6.75          6.23\n",
      "EArch__seq                   11              30          4.06          5.67\n",
      "EArch__spla                  11              52          6.19          7.78\n",
      "EArch__tseng                  5               6          3.35          7.22\n"
     ]
    }
   ],
   "source": [
    "path = \"/mnt/e/benchmarks/route_metrics/MCNC/\"\n",
    "r_string = \"EArch*\"\n",
    "type_string = \"gnn\"\n",
    "metric(path, r_string, type_string)"
   ]
  },
  {
   "cell_type": "code",
   "execution_count": 6,
   "metadata": {},
   "outputs": [],
   "source": [
    "import tensorflow as tf\n",
    "import datetime"
   ]
  },
  {
   "cell_type": "code",
   "execution_count": 7,
   "metadata": {},
   "outputs": [
    {
     "ename": "KeyError",
     "evalue": "'stratixiv_arch__uoft_raytracer_stratixiv_arch_timing'",
     "output_type": "error",
     "traceback": [
      "\u001b[0;31m---------------------------------------------------------------------------\u001b[0m",
      "\u001b[0;31mKeyError\u001b[0m                                  Traceback (most recent call last)",
      "\u001b[0;32m/tmp/ipykernel_11424/2382532505.py\u001b[0m in \u001b[0;36m<module>\u001b[0;34m\u001b[0m\n\u001b[1;32m      2\u001b[0m \u001b[0mr_string\u001b[0m \u001b[0;34m=\u001b[0m \u001b[0;34m\"strat*\"\u001b[0m\u001b[0;34m\u001b[0m\u001b[0;34m\u001b[0m\u001b[0m\n\u001b[1;32m      3\u001b[0m \u001b[0mtype_string\u001b[0m \u001b[0;34m=\u001b[0m \u001b[0;34m\"gnn\"\u001b[0m\u001b[0;34m\u001b[0m\u001b[0;34m\u001b[0m\u001b[0m\n\u001b[0;32m----> 4\u001b[0;31m \u001b[0mmetric\u001b[0m\u001b[0;34m(\u001b[0m\u001b[0mpath\u001b[0m\u001b[0;34m,\u001b[0m \u001b[0mr_string\u001b[0m\u001b[0;34m,\u001b[0m \u001b[0mtype_string\u001b[0m\u001b[0;34m)\u001b[0m\u001b[0;34m\u001b[0m\u001b[0;34m\u001b[0m\u001b[0m\n\u001b[0m",
      "\u001b[0;32m/tmp/ipykernel_11424/1557095704.py\u001b[0m in \u001b[0;36mmetric\u001b[0;34m(path, r_string, type_string, timing)\u001b[0m\n\u001b[1;32m     39\u001b[0m         \u001b[0mreg_time\u001b[0m \u001b[0;34m=\u001b[0m \u001b[0msum\u001b[0m\u001b[0;34m(\u001b[0m\u001b[0mdf\u001b[0m\u001b[0;34m[\u001b[0m\u001b[0;34m'Time'\u001b[0m\u001b[0;34m]\u001b[0m\u001b[0;34m)\u001b[0m\u001b[0;34m\u001b[0m\u001b[0;34m\u001b[0m\u001b[0m\n\u001b[1;32m     40\u001b[0m \u001b[0;34m\u001b[0m\u001b[0m\n\u001b[0;32m---> 41\u001b[0;31m         \u001b[0mresultdf\u001b[0m\u001b[0;34m[\u001b[0m\u001b[0mname\u001b[0m\u001b[0;34m]\u001b[0m\u001b[0;34m[\u001b[0m\u001b[0;34m'REG_Iterations'\u001b[0m\u001b[0;34m]\u001b[0m \u001b[0;34m=\u001b[0m \u001b[0mreg_iteration\u001b[0m\u001b[0;34m\u001b[0m\u001b[0;34m\u001b[0m\u001b[0m\n\u001b[0m\u001b[1;32m     42\u001b[0m         \u001b[0mresultdf\u001b[0m\u001b[0;34m[\u001b[0m\u001b[0mname\u001b[0m\u001b[0;34m]\u001b[0m\u001b[0;34m[\u001b[0m\u001b[0;34m'REG_CPD (ns)'\u001b[0m\u001b[0;34m]\u001b[0m \u001b[0;34m=\u001b[0m \u001b[0mreg_cpd\u001b[0m\u001b[0;34m\u001b[0m\u001b[0;34m\u001b[0m\u001b[0m\n\u001b[1;32m     43\u001b[0m         \u001b[0mresultdf\u001b[0m\u001b[0;34m[\u001b[0m\u001b[0mname\u001b[0m\u001b[0;34m]\u001b[0m\u001b[0;34m[\u001b[0m\u001b[0;34m'REG_Time (s)'\u001b[0m\u001b[0;34m]\u001b[0m \u001b[0;34m=\u001b[0m \u001b[0mreg_time\u001b[0m\u001b[0;34m\u001b[0m\u001b[0;34m\u001b[0m\u001b[0m\n",
      "\u001b[0;31mKeyError\u001b[0m: 'stratixiv_arch__uoft_raytracer_stratixiv_arch_timing'"
     ]
    }
   ],
   "source": [
    "path = \"/mnt/e/benchmarks/route_metrics/TITAN/\"\n",
    "r_string = \"strat*\"\n",
    "type_string = \"gnn\"\n",
    "metric(path, r_string, type_string)"
   ]
  }
 ],
 "metadata": {
  "interpreter": {
   "hash": "33523b78cfab29329be06c8dc9e0bc68c55f5871a327f9619ac45fb3b56bad04"
  },
  "kernelspec": {
   "display_name": "Python 3.9.7 ('cs235')",
   "language": "python",
   "name": "python3"
  },
  "language_info": {
   "codemirror_mode": {
    "name": "ipython",
    "version": 3
   },
   "file_extension": ".py",
   "mimetype": "text/x-python",
   "name": "python",
   "nbconvert_exporter": "python",
   "pygments_lexer": "ipython3",
   "version": "3.9.7"
  },
  "orig_nbformat": 4
 },
 "nbformat": 4,
 "nbformat_minor": 2
}
