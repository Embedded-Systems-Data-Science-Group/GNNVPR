{
 "cells": [
  {
   "cell_type": "code",
   "execution_count": 1,
   "source": [
    "import pandas as pd\n",
    "import glob\n",
    "import os\n",
    "import re\n",
    "import math\n",
    "import matplotlib.pyplot as plt\n",
    "import numpy as np\n",
    "from statistics import mean\n"
   ],
   "outputs": [],
   "metadata": {}
  },
  {
   "cell_type": "code",
   "execution_count": 2,
   "source": [
    "def metric(path, r_string, type_string, timing=False):\n",
    "    all_files = glob.glob(os.path.join(path, \"*\"+r_string+type_string+\"*.csv\"))\n",
    "    for file in all_files:\n",
    "        if os.path.getsize(file) == 0:\n",
    "            all_files.remove(file)\n",
    "      \n",
    "    print(type(all_files))\n",
    "    results = dict()\n",
    "    results[type_string] = dict()\n",
    "    results['reg'] = dict()\n",
    "    results['time_'+type_string] = dict()\n",
    "    results['time_reg'] = dict()\n",
    "    results['CPD_'+type_string] = dict()\n",
    "    results['CPD_REG'] = dict()\n",
    "    gnn_results = dict()\n",
    "    reg_results = dict()\n",
    "    for gnn_metric in all_files:\n",
    "        lf = gnn_metric.split(\"/\")[-1]\n",
    "        lf = lf.split(\".\")[0]\n",
    "        name = lf.split(\"__\"+type_string+\"__\")[0]\n",
    "        # print(name)\n",
    "    \n",
    "        df = pd.read_csv(gnn_metric,index_col=None,header=0)\n",
    "       \n",
    "        gnn_results[name] = int(max(df['Iteration']))\n",
    "        # print(df[].head())\n",
    "    results[type_string] = gnn_results\n",
    "    reg_results = dict()\n",
    "    for gnn_metric in all_files:\n",
    "        lf = gnn_metric.split(\"/\")[-1]\n",
    "        lf = lf.split(\".\")[0]\n",
    "        name = lf.split(\"__\"+type_string+\"__\")[0]\n",
    "        # print(name)\n",
    "        df = pd.read_csv(gnn_metric,index_col=None,header=0)\n",
    "       \n",
    "        reg_results[name] = sum(df['Time'])\n",
    "    results['time_'+type_string] = reg_results\n",
    "    # print(results)\n",
    "    reg_results = dict()\n",
    "\n",
    "    reg_results = dict()\n",
    "    for gnn_metric in all_files:\n",
    "        lf = gnn_metric.split(\"/\")[-1]\n",
    "        lf = lf.split(\".\")[0]\n",
    "        name = lf.split(\"__\"+type_string+\"__\")[0]\n",
    "        # print(name)\n",
    "        df = pd.read_csv(gnn_metric,index_col=None,header=0)\n",
    "       \n",
    "        reg_results[name] = max(df['CPD (ns)'])\n",
    "    results['CPD_'+type_string] = reg_results\n",
    "    # print(results)\n",
    "    reg_results = dict()\n",
    "    all_files = glob.glob(os.path.join(path, r_string+\"*reg*.csv\"))\n",
    "    for file in all_files:\n",
    "        if os.path.getsize(file) == 0:\n",
    "            all_files.remove(file)\n",
    "    for reg_metric in all_files:\n",
    "        lf = reg_metric.split(\"/\")[-1]\n",
    "        lf = lf.split(\".\")[0]\n",
    "        name = lf.split(\"__reg__\")[0]\n",
    "        # print(name)\n",
    "        df = pd.read_csv(reg_metric,index_col=None,header=0)\n",
    "       \n",
    "        reg_results[name] = max(df['Iteration'])\n",
    "        # print(df[].head())  \n",
    "    results['reg'] = reg_results\n",
    "\n",
    "    reg_results = dict()\n",
    "    for reg_metric in all_files:\n",
    "        lf = reg_metric.split(\"/\")[-1]\n",
    "        lf = lf.split(\".\")[0]\n",
    "        name = lf.split(\"__reg__\")[0]\n",
    "        # print(name)\n",
    "        df = pd.read_csv(reg_metric,index_col=None,header=0)\n",
    "        reg_results[name] = sum(df['Time'])\n",
    "    results['time_reg'] = reg_results\n",
    "\n",
    "    reg_results = dict()\n",
    "    for reg_metric in all_files:\n",
    "        lf = reg_metric.split(\"/\")[-1]\n",
    "        lf = lf.split(\".\")[0]\n",
    "        name = lf.split(\"__reg__\")[0]\n",
    "        # print(name)\n",
    "        df = pd.read_csv(reg_metric,index_col=None,header=0)\n",
    "        reg_results[name] = max(df['CPD (ns)'])\n",
    "    results['CPD_REG'] = reg_results\n",
    "        # print(df[].head())\n",
    "\n",
    "    # print(results)\n",
    "    my_df = pd.DataFrame.from_dict(results)\n",
    "    # print(my_df)\n",
    "    my_df['Reduction'] = (my_df['reg'].values - my_df[type_string].values)/my_df['reg'].values\n",
    "    # my_df['Reduction']=  pd.Series([\"{0:.2f}%\".format(val * 100) for val in my_df['Reduction']], index = my_df.index)\n",
    "\n",
    "    # print(\"{:2%}\".format(my_df))\n",
    "    my_df.dropna(inplace=True)\n",
    "    print(\"Average: \", \"{:.2%}\".format(mean(my_df['Reduction'].values)))\n",
    "\n",
    "    pd.set_option('expand_frame_repr', False)\n",
    "    my_df['Reduction']=  pd.Series([\"{0:.2f}%\".format(val * 100) for val in my_df['Reduction']], index = my_df.index)\n",
    "    my_df['time_reg']=  pd.Series([\"{0:.2f}\".format(val) for val in my_df['time_reg']], index = my_df.index)\n",
    "    my_df['time_'+type_string]=  pd.Series([\"{0:.2f}\".format(val) for val in my_df['time_'+type_string]], index = my_df.index)\n",
    "    my_df['CPD_REG']=  pd.Series([\"{0:.2f}\".format(val) for val in my_df['CPD_REG']], index = my_df.index)\n",
    "    my_df['CPD_'+type_string]=  pd.Series([\"{0:.2f}\".format(val) for val in my_df['CPD_'+type_string]], index = my_df.index)\n",
    "   \n",
    "    print(my_df)"
   ],
   "outputs": [],
   "metadata": {}
  },
  {
   "cell_type": "code",
   "execution_count": 3,
   "source": [
    "def prediction_hist():\n",
    "    path = \"/benchmarks/graph_data/\"\n",
    "\n",
    "    results = []\n",
    "    graph_files = glob.glob(os.path.join(path, \"*-hcost.csv\"))\n",
    "    for graph in graph_files:\n",
    "        df = pd.read_csv(graph, header=0)\n",
    "        results.extend(df.values)\n",
    "    # df = pd.read_csv(graph_files[0],index_col=None,header=0)\n",
    "    # results = list(filter(lambda x: x > 2, results))\n",
    "    plt.yscale('log')\n",
    "    plt.hist(results, 6, color=\"purple\")"
   ],
   "outputs": [],
   "metadata": {}
  },
  {
   "cell_type": "code",
   "execution_count": 4,
   "source": [
    "prediction_hist()"
   ],
   "outputs": [
    {
     "output_type": "stream",
     "name": "stderr",
     "text": [
      "/home/ubuntu/anaconda3/envs/pytorch_latest_p37/lib/python3.7/site-packages/ipykernel/pylab/backend_inline.py:183: UserWarning: Data has no positive values, and therefore cannot be log-scaled.\n",
      "  for label in axis.get_ticklabels()])\n"
     ]
    },
    {
     "output_type": "display_data",
     "data": {
      "text/plain": [
       "<Figure size 432x288 with 1 Axes>"
      ],
      "image/png": "[encoded data removed]"
     },
     "metadata": {
      "needs_background": "light"
     }
    }
   ],
   "metadata": {}
  },
  {
   "cell_type": "code",
   "execution_count": 12,
   "source": [
    "path = \"/benchmarks/route_metrics/MCNC/\"\n",
    "r_string = \"EArch*\"\n",
    "type_string = \"init\"\n",
    "metric(path, r_string, type_string)"
   ],
   "outputs": [
    {
     "output_type": "stream",
     "name": "stdout",
     "text": [
      "<class 'list'>\n",
      "Average:  -9.27%\n",
      "                 init  reg time_init time_reg CPD_init CPD_REG Reduction\n",
      "EArch__alu4        22   18      5.34     0.43     8.42    5.24   -22.22%\n",
      "EArch__apex2       19   16     13.45     0.60     8.75    6.22   -18.75%\n",
      "EArch__apex4       22   21     19.90     0.55     9.59    5.50    -4.76%\n",
      "EArch__bigkey      18   15      0.75     0.40     3.78    3.11   -20.00%\n",
      "EArch__clma        19   16    122.95     2.45    13.39   11.06   -18.75%\n",
      "EArch__des         17   15      6.24     0.54     7.66    5.83   -13.33%\n",
      "EArch__diffeq      15   15      1.79     0.31     7.82    6.56     0.00%\n",
      "EArch__dsip        15   17      1.82     0.41     3.88    2.77    11.76%\n",
      "EArch__elliptic    19   17     37.26     1.00    10.13    9.33   -11.76%\n",
      "EArch__ex1010      19   17     34.34     1.44    10.08    7.57   -11.76%\n",
      "EArch__ex5p        19   19      9.31     0.40     8.52    5.30     0.00%\n",
      "EArch__frisc       15   14     16.74     0.92    12.64   12.50    -7.14%\n",
      "EArch__misex3      20   18      9.02     0.47     8.68    5.48   -11.11%\n",
      "EArch__pdc         20   18    218.36     1.92    13.18    8.01   -11.11%\n",
      "EArch__s298        18   18      1.91     0.45    12.05   10.13     0.00%\n",
      "EArch__s38417      17   16      5.88     1.20    10.28    7.84    -6.25%\n",
      "EArch__s38584      18   16     11.80     1.13     8.54    6.58   -12.50%\n",
      "EArch__seq         20   18     18.75     0.60     8.60    5.24   -11.11%\n",
      "EArch__spla        22   20    118.15     1.64    11.46    7.22   -10.00%\n",
      "EArch__tseng       16   15      0.56     0.22     8.22    6.47    -6.67%\n"
     ]
    }
   ],
   "metadata": {}
  },
  {
   "cell_type": "code",
   "execution_count": 13,
   "source": [
    "path = \"/benchmarks/route_metrics/TITAN/\"\n",
    "r_string = \"strat*\"\n",
    "type_string = \"init\"\n",
    "metric(path, r_string, type_string)"
   ],
   "outputs": [
    {
     "output_type": "stream",
     "name": "stdout",
     "text": [
      "<class 'list'>\n",
      "Average:  -6.34%\n",
      "                          init  reg time_init time_reg CPD_init CPD_REG Reduction\n",
      "stratixiv_arch__alu4      16.0   16      1.86     0.76    10.78    9.53     0.00%\n",
      "stratixiv_arch__apex2     24.0   18      7.46     1.19    13.32   10.37   -33.33%\n",
      "stratixiv_arch__apex4     20.0   18      7.61     1.04    11.78    9.49   -11.11%\n",
      "stratixiv_arch__bigkey     8.0    9      0.49     4.52     7.78    7.78    11.11%\n",
      "stratixiv_arch__clma      19.0   17     44.68     4.36    10.92    9.93   -11.76%\n",
      "stratixiv_arch__des       12.0   12      2.28     8.16    12.33   12.43     0.00%\n",
      "stratixiv_arch__diffeq    15.0   17      5.60     1.10     9.89    7.51    11.76%\n",
      "stratixiv_arch__dsip      11.0   14      4.42     7.03     7.43    7.43    21.43%\n",
      "stratixiv_arch__elliptic  22.0   22    443.52     6.53    18.28   10.11     0.00%\n",
      "stratixiv_arch__ex1010    25.0   22     45.99     4.32    17.90   12.69   -13.64%\n",
      "stratixiv_arch__ex5p      22.0   17      9.72     1.07    12.42    9.61   -29.41%\n",
      "stratixiv_arch__frisc     15.0   15     49.29     2.75    11.94   11.81     0.00%\n",
      "stratixiv_arch__misex3    17.0   16      3.16     0.82    10.60    9.38    -6.25%\n",
      "stratixiv_arch__pdc       23.0   18     67.45     3.99    15.13   11.86   -27.78%\n",
      "stratixiv_arch__s298      11.0   13      0.31     0.62     9.54    9.32    15.38%\n",
      "stratixiv_arch__s38417    22.0   18     18.10     2.82    10.01    7.81   -22.22%\n",
      "stratixiv_arch__s38584    17.0   17     28.14     7.07    12.83   10.63     0.00%\n",
      "stratixiv_arch__seq       22.0   20     15.69     1.34    12.21    9.44   -10.00%\n",
      "stratixiv_arch__spla      22.0   17     27.63     2.94    12.92   10.86   -29.41%\n",
      "stratixiv_arch__tseng     11.0   12      0.39     1.45     6.85    6.84     8.33%\n"
     ]
    }
   ],
   "metadata": {}
  },
  {
   "cell_type": "code",
   "execution_count": 7,
   "source": [
    "path = \"/mnt/e/benchmarks/route_metrics/\"\n",
    "r_string = \"*EArch*\"\n",
    "type_string = \"gnd\"\n",
    "metric(path, r_string, type_string)"
   ],
   "outputs": [
    {
     "output_type": "stream",
     "name": "stdout",
     "text": [
      "<class 'list'>\n"
     ]
    },
    {
     "output_type": "error",
     "ename": "StatisticsError",
     "evalue": "mean requires at least one data point",
     "traceback": [
      "\u001b[0;31m---------------------------------------------------------------------------\u001b[0m",
      "\u001b[0;31mStatisticsError\u001b[0m                           Traceback (most recent call last)",
      "\u001b[0;32m<ipython-input-7-9c60fde3488d>\u001b[0m in \u001b[0;36m<module>\u001b[0;34m\u001b[0m\n\u001b[1;32m      2\u001b[0m \u001b[0mr_string\u001b[0m \u001b[0;34m=\u001b[0m \u001b[0;34m\"*EArch*\"\u001b[0m\u001b[0;34m\u001b[0m\u001b[0;34m\u001b[0m\u001b[0m\n\u001b[1;32m      3\u001b[0m \u001b[0mtype_string\u001b[0m \u001b[0;34m=\u001b[0m \u001b[0;34m\"gnd\"\u001b[0m\u001b[0;34m\u001b[0m\u001b[0;34m\u001b[0m\u001b[0m\n\u001b[0;32m----> 4\u001b[0;31m \u001b[0mmetric\u001b[0m\u001b[0;34m(\u001b[0m\u001b[0mpath\u001b[0m\u001b[0;34m,\u001b[0m \u001b[0mr_string\u001b[0m\u001b[0;34m,\u001b[0m \u001b[0mtype_string\u001b[0m\u001b[0;34m)\u001b[0m\u001b[0;34m\u001b[0m\u001b[0;34m\u001b[0m\u001b[0m\n\u001b[0m",
      "\u001b[0;32m<ipython-input-2-3815a77ab018>\u001b[0m in \u001b[0;36mmetric\u001b[0;34m(path, r_string, type_string, timing)\u001b[0m\n\u001b[1;32m     95\u001b[0m     \u001b[0;31m# print(\"{:2%}\".format(my_df))\u001b[0m\u001b[0;34m\u001b[0m\u001b[0;34m\u001b[0m\u001b[0;34m\u001b[0m\u001b[0m\n\u001b[1;32m     96\u001b[0m     \u001b[0mmy_df\u001b[0m\u001b[0;34m.\u001b[0m\u001b[0mdropna\u001b[0m\u001b[0;34m(\u001b[0m\u001b[0minplace\u001b[0m\u001b[0;34m=\u001b[0m\u001b[0;32mTrue\u001b[0m\u001b[0;34m)\u001b[0m\u001b[0;34m\u001b[0m\u001b[0;34m\u001b[0m\u001b[0m\n\u001b[0;32m---> 97\u001b[0;31m     \u001b[0mprint\u001b[0m\u001b[0;34m(\u001b[0m\u001b[0;34m\"Average: \"\u001b[0m\u001b[0;34m,\u001b[0m \u001b[0;34m\"{:.2%}\"\u001b[0m\u001b[0;34m.\u001b[0m\u001b[0mformat\u001b[0m\u001b[0;34m(\u001b[0m\u001b[0mmean\u001b[0m\u001b[0;34m(\u001b[0m\u001b[0mmy_df\u001b[0m\u001b[0;34m[\u001b[0m\u001b[0;34m'Reduction'\u001b[0m\u001b[0;34m]\u001b[0m\u001b[0;34m.\u001b[0m\u001b[0mvalues\u001b[0m\u001b[0;34m)\u001b[0m\u001b[0;34m)\u001b[0m\u001b[0;34m)\u001b[0m\u001b[0;34m\u001b[0m\u001b[0;34m\u001b[0m\u001b[0m\n\u001b[0m\u001b[1;32m     98\u001b[0m \u001b[0;34m\u001b[0m\u001b[0m\n\u001b[1;32m     99\u001b[0m     \u001b[0mpd\u001b[0m\u001b[0;34m.\u001b[0m\u001b[0mset_option\u001b[0m\u001b[0;34m(\u001b[0m\u001b[0;34m'expand_frame_repr'\u001b[0m\u001b[0;34m,\u001b[0m \u001b[0;32mFalse\u001b[0m\u001b[0;34m)\u001b[0m\u001b[0;34m\u001b[0m\u001b[0;34m\u001b[0m\u001b[0m\n",
      "\u001b[0;32m~/anaconda3/envs/pytorch_latest_p37/lib/python3.7/statistics.py\u001b[0m in \u001b[0;36mmean\u001b[0;34m(data)\u001b[0m\n\u001b[1;32m    308\u001b[0m     \u001b[0mn\u001b[0m \u001b[0;34m=\u001b[0m \u001b[0mlen\u001b[0m\u001b[0;34m(\u001b[0m\u001b[0mdata\u001b[0m\u001b[0;34m)\u001b[0m\u001b[0;34m\u001b[0m\u001b[0;34m\u001b[0m\u001b[0m\n\u001b[1;32m    309\u001b[0m     \u001b[0;32mif\u001b[0m \u001b[0mn\u001b[0m \u001b[0;34m<\u001b[0m \u001b[0;36m1\u001b[0m\u001b[0;34m:\u001b[0m\u001b[0;34m\u001b[0m\u001b[0;34m\u001b[0m\u001b[0m\n\u001b[0;32m--> 310\u001b[0;31m         \u001b[0;32mraise\u001b[0m \u001b[0mStatisticsError\u001b[0m\u001b[0;34m(\u001b[0m\u001b[0;34m'mean requires at least one data point'\u001b[0m\u001b[0;34m)\u001b[0m\u001b[0;34m\u001b[0m\u001b[0;34m\u001b[0m\u001b[0m\n\u001b[0m\u001b[1;32m    311\u001b[0m     \u001b[0mT\u001b[0m\u001b[0;34m,\u001b[0m \u001b[0mtotal\u001b[0m\u001b[0;34m,\u001b[0m \u001b[0mcount\u001b[0m \u001b[0;34m=\u001b[0m \u001b[0m_sum\u001b[0m\u001b[0;34m(\u001b[0m\u001b[0mdata\u001b[0m\u001b[0;34m)\u001b[0m\u001b[0;34m\u001b[0m\u001b[0;34m\u001b[0m\u001b[0m\n\u001b[1;32m    312\u001b[0m     \u001b[0;32massert\u001b[0m \u001b[0mcount\u001b[0m \u001b[0;34m==\u001b[0m \u001b[0mn\u001b[0m\u001b[0;34m\u001b[0m\u001b[0;34m\u001b[0m\u001b[0m\n",
      "\u001b[0;31mStatisticsError\u001b[0m: mean requires at least one data point"
     ]
    }
   ],
   "metadata": {}
  },
  {
   "cell_type": "code",
   "execution_count": null,
   "source": [
    "path = \"/mnt/e/benchmarks/route_metrics/\"\n",
    "r_string = \"strat*timing*\"\n",
    "type_string = \"gnn\"\n",
    "metric(path, r_string, type_string)"
   ],
   "outputs": [
    {
     "output_type": "stream",
     "name": "stdout",
     "text": [
      "<class 'list'>\n",
      "Average:  69.63%\n",
      "                                                     gnn  reg time_gnn time_reg CPD_GNN CPD_REG Reduction\n",
      "stratixiv_arch__carpat_stratixiv_arch_timing         6.0   22    29.57   134.06    8.23    8.15    72.73%\n",
      "stratixiv_arch__CHERI_stratixiv_arch_timing         28.0   44   260.57   499.08   17.37   18.35    36.36%\n",
      "stratixiv_arch__CH_DFSIN_stratixiv_arch_timing       8.0    7    19.76    28.64   71.82   71.82   -14.29%\n",
      "stratixiv_arch__fir_cascade_stratixiv_arch_timing    2.0   12   102.83   331.43    5.28    6.26    83.33%\n",
      "stratixiv_arch__jacobi_stratixiv_arch_timing         4.0   19    25.20   101.99  198.24  198.05    78.95%\n",
      "stratixiv_arch__JPEG_stratixiv_arch_timing           7.0   50    27.79   318.91   16.50   18.80    86.00%\n",
      "stratixiv_arch__leon2_stratixiv_arch_timing          2.0   12    11.20    18.19    8.77    8.46    83.33%\n",
      "stratixiv_arch__leon3mp_stratixiv_arch_timing        3.0   13    17.56    42.29   15.68   15.19    76.92%\n",
      "stratixiv_arch__MCML_stratixiv_arch_timing           4.0   14    40.11   133.43    8.46    8.45    71.43%\n",
      "stratixiv_arch__MMM_stratixiv_arch_timing            3.0   15    33.72   129.06    9.72   10.00    80.00%\n",
      "stratixiv_arch__radar20_stratixiv_arch_timing        2.0   11    25.58    59.69    6.48    6.58    81.82%\n",
      "stratixiv_arch__random_stratixiv_arch_timing         6.0   17    34.77   143.70   39.44   39.40    64.71%\n",
      "stratixiv_arch__Reed_Solomon_stratixiv_arch_timing   2.0   12    38.62   115.56   10.07   10.04    83.33%\n",
      "stratixiv_arch__smithwaterman_stratixiv_arch_ti...   3.0   17    16.25    47.25    9.93    9.93    82.35%\n",
      "stratixiv_arch__stap_steering_stratixiv_arch_ti...   3.0   14    21.09    63.70    5.56    5.56    78.57%\n",
      "stratixiv_arch__sudoku_check_stratixiv_arch_timing   7.0   16    17.19    27.91    7.29    5.57    56.25%\n",
      "stratixiv_arch__SURF_desc_stratixiv_arch_timing      7.0   20    24.57    83.79  195.42  195.26    65.00%\n",
      "stratixiv_arch__ucsb_152_tap_fir_stratixiv_arch...   2.0   14     9.01    14.58    4.98    4.98    85.71%\n",
      "stratixiv_arch__uoft_raytracer_stratixiv_arch_t...   7.0   19    60.37   278.85   10.01    9.59    63.16%\n",
      "stratixiv_arch__wb_conmax_stratixiv_arch_timing      3.0   13    73.09   243.53   12.80   12.94    76.92%\n"
     ]
    }
   ],
   "metadata": {}
  }
 ],
 "metadata": {
  "orig_nbformat": 4,
  "language_info": {
   "name": "python",
   "version": "3.7.10",
   "mimetype": "text/x-python",
   "codemirror_mode": {
    "name": "ipython",
    "version": 3
   },
   "pygments_lexer": "ipython3",
   "nbconvert_exporter": "python",
   "file_extension": ".py"
  },
  "kernelspec": {
   "name": "python3",
   "display_name": "Python 3.7.10 64-bit ('pytorch_latest_p37': conda)"
  },
  "interpreter": {
   "hash": "47d517df254fbe59b5c04b69f23871c524fea7fc7dc51e349dcd158d9476f98d"
  }
 },
 "nbformat": 4,
 "nbformat_minor": 2
}